{
 "cells": [
  {
   "cell_type": "code",
   "execution_count": null,
   "id": "8935cb5d",
   "metadata": {},
   "outputs": [],
   "source": [
    "from ultralytics import YOLO\n",
    "import numpy as np\n",
    "import random\n",
    "import torch\n",
    "import os\n",
    "\n",
    "def set_seed(seed: int = 42):\n",
    "    random.seed(seed)\n",
    "    np.random.seed(seed)\n",
    "    torch.manual_seed(seed)\n",
    "    torch.cuda.manual_seed(seed)\n",
    "    torch.cuda.manual_seed_all(seed)\n",
    "    torch.backends.cudnn.deterministic = True\n",
    "    torch.backends.cudnn.benchmark = False\n",
    "\n",
    "set_seed(150102)"
   ]
  },
  {
   "cell_type": "code",
   "execution_count": null,
   "id": "ddc1c809",
   "metadata": {},
   "outputs": [],
   "source": [
    "class Config:\n",
    "    IMG_SIZE = 640\n",
    "    BATCH_SIZE = 64\n",
    "    EPOCHS = 45\n",
    "    LEARNING_RATE = 3e-4\n",
    "    NUM_CLASSES = 42\n",
    "    DEVICE = \"cuda\" if torch.cuda.is_available() else \"cpu\"\n",
    "\n",
    "    CLASSES = [\n",
    "        \"achichuk\", \"airan-katyk\", \"asip\", \"bauyrsak\", \"beshbarmak-w-kazy\",\n",
    "        \"beshbarmak-wo-kazy\", \"chak-chak\", \"cheburek\", \"doner-lavash\", \"doner-nan\",\n",
    "        \"hvorost\", \"irimshik\", \"kattama-nan\", \"kazy-karta\", \"kurt\", \"kuyrdak\",\n",
    "        \"kymyz-kymyran\", \"lagman-fried\", \"lagman-w-soup\", \"lagman-wo-soup\", \"manty\",\n",
    "        \"naryn\", \"nauryz-kozhe\", \"orama\", \"plov\", \"samsa\", \"shashlyk-chicken\",\n",
    "        \"shashlyk-chicken-v\", \"shashlyk-kuskovoi\", \"shashlyk-kuskovoi-v\",\n",
    "        \"shashlyk-minced-meat\", \"sheep-head\", \"shelpek\", \"shorpa\", \"soup-plain\",\n",
    "        \"sushki\", \"suzbe\", \"taba-nan\", \"talkan-zhent\", \"tushpara-fried\",\n",
    "        \"tushpara-w-soup\", \"tushpara-wo-soup\"\n",
    "    ]\n",
    "\n",
    "    TRAIN_DATA = './CAFD/train'\n",
    "    VALIDATION_DATA = './CAFD/valid'\n",
    "    TEST_DATA = './CAFD/test'\n",
    "\n",
    "cfg = Config()\n",
    "yaml_path = './cafd.yaml'\n",
    "yaml_content = f\"\"\"\n",
    "train: {cfg.TRAIN_DATA}\n",
    "val: {cfg.VALIDATION_DATA}\n",
    "cn: {cfg.NUM_CLASSES}\n",
    "names: {cfg.CLASSES}\n",
    "\"\"\"\n",
    "\n",
    "with open(yaml_path, 'w') as file:\n",
    "    file.write(yaml_content)"
   ]
  }
 ],
 "metadata": {
  "kernelspec": {
   "display_name": ".venv311",
   "language": "python",
   "name": "python3"
  },
  "language_info": {
   "codemirror_mode": {
    "name": "ipython",
    "version": 3
   },
   "file_extension": ".py",
   "mimetype": "text/x-python",
   "name": "python",
   "nbconvert_exporter": "python",
   "pygments_lexer": "ipython3",
   "version": "3.11.13"
  }
 },
 "nbformat": 4,
 "nbformat_minor": 5
}
